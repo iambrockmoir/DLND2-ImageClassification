{
 "cells": [
  {
   "cell_type": "markdown",
   "metadata": {
    "collapsed": true
   },
   "source": [
    "# Image Classification\n",
    "In this project, you'll classify images from the [CIFAR-10 dataset](https://www.cs.toronto.edu/~kriz/cifar.html).  The dataset consists of airplanes, dogs, cats, and other objects. You'll preprocess the images, then train a convolutional neural network on all the samples. The images need to be normalized and the labels need to be one-hot encoded.  You'll get to apply what you learned and build a convolutional, max pooling, dropout, and fully connected layers.  At the end, you'll get to see your neural network's predictions on the sample images.\n",
    "## Get the Data\n",
    "Run the following cell to download the [CIFAR-10 dataset for python](https://www.cs.toronto.edu/~kriz/cifar-10-python.tar.gz)."
   ]
  },
  {
   "cell_type": "code",
   "execution_count": 1,
   "metadata": {
    "collapsed": false
   },
   "outputs": [
    {
     "name": "stdout",
     "output_type": "stream",
     "text": [
      "All files found!\n"
     ]
    }
   ],
   "source": [
    "\"\"\"\n",
    "DON'T MODIFY ANYTHING IN THIS CELL THAT IS BELOW THIS LINE\n",
    "\"\"\"\n",
    "from urllib.request import urlretrieve\n",
    "from os.path import isfile, isdir\n",
    "from tqdm import tqdm\n",
    "import problem_unittests as tests\n",
    "import tarfile\n",
    "\n",
    "cifar10_dataset_folder_path = 'cifar-10-batches-py'\n",
    "\n",
    "class DLProgress(tqdm):\n",
    "    last_block = 0\n",
    "\n",
    "    def hook(self, block_num=1, block_size=1, total_size=None):\n",
    "        self.total = total_size\n",
    "        self.update((block_num - self.last_block) * block_size)\n",
    "        self.last_block = block_num\n",
    "\n",
    "if not isfile('cifar-10-python.tar.gz'):\n",
    "    with DLProgress(unit='B', unit_scale=True, miniters=1, desc='CIFAR-10 Dataset') as pbar:\n",
    "        urlretrieve(\n",
    "            'https://www.cs.toronto.edu/~kriz/cifar-10-python.tar.gz',\n",
    "            'cifar-10-python.tar.gz',\n",
    "            pbar.hook)\n",
    "\n",
    "if not isdir(cifar10_dataset_folder_path):\n",
    "    with tarfile.open('cifar-10-python.tar.gz') as tar:\n",
    "        tar.extractall()\n",
    "        tar.close()\n",
    "\n",
    "\n",
    "tests.test_folder_path(cifar10_dataset_folder_path)"
   ]
  },
  {
   "cell_type": "markdown",
   "metadata": {},
   "source": [
    "## Explore the Data\n",
    "The dataset is broken into batches to prevent your machine from running out of memory.  The CIFAR-10 dataset consists of 5 batches, named `data_batch_1`, `data_batch_2`, etc.. Each batch contains the labels and images that are one of the following:\n",
    "* airplane\n",
    "* automobile\n",
    "* bird\n",
    "* cat\n",
    "* deer\n",
    "* dog\n",
    "* frog\n",
    "* horse\n",
    "* ship\n",
    "* truck\n",
    "\n",
    "Understanding a dataset is part of making predictions on the data.  Play around with the code cell below by changing the `batch_id` and `sample_id`. The `batch_id` is the id for a batch (1-5). The `sample_id` is the id for a image and label pair in the batch.\n",
    "\n",
    "Ask yourself \"What are all possible labels?\", \"What is the range of values for the image data?\", \"Are the labels in order or random?\".  Answers to questions like these will help you preprocess the data and end up with better predictions."
   ]
  },
  {
   "cell_type": "code",
   "execution_count": 2,
   "metadata": {
    "collapsed": false
   },
   "outputs": [
    {
     "name": "stdout",
     "output_type": "stream",
     "text": [
      "\n",
      "Stats of batch 1:\n",
      "Samples: 10000\n",
      "Label Counts: {0: 1005, 1: 974, 2: 1032, 3: 1016, 4: 999, 5: 937, 6: 1030, 7: 1001, 8: 1025, 9: 981}\n",
      "First 20 Labels: [6, 9, 9, 4, 1, 1, 2, 7, 8, 3, 4, 7, 7, 2, 9, 9, 9, 3, 2, 6]\n",
      "\n",
      "Example of Image 5:\n",
      "Image - Min Value: 0 Max Value: 252\n",
      "Image - Shape: (32, 32, 3)\n",
      "Label - Label Id: 1 Name: automobile\n"
     ]
    },
    {
     "data": {
      "image/png": "[encoded data removed]",
      "text/plain": [
       "<matplotlib.figure.Figure at 0x10d8593c8>"
      ]
     },
     "metadata": {
      "image/png": {
       "height": 250,
       "width": 253
      }
     },
     "output_type": "display_data"
    }
   ],
   "source": [
    "%matplotlib inline\n",
    "%config InlineBackend.figure_format = 'retina'\n",
    "\n",
    "import helper\n",
    "import numpy as np\n",
    "\n",
    "# Explore the dataset\n",
    "batch_id = 1\n",
    "sample_id = 5\n",
    "helper.display_stats(cifar10_dataset_folder_path, batch_id, sample_id)"
   ]
  },
  {
   "cell_type": "markdown",
   "metadata": {},
   "source": [
    "## Implement Preprocess Functions\n",
    "### Normalize\n",
    "In the cell below, implement the `normalize` function to take in image data, `x`, and return it as a normalized Numpy array. The values should be in the range of 0 to 1, inclusive.  The return object should be the same shape as `x`."
   ]
  },
  {
   "cell_type": "code",
   "execution_count": 3,
   "metadata": {
    "collapsed": false
   },
   "outputs": [
    {
     "name": "stdout",
     "output_type": "stream",
     "text": [
      "Tests Passed\n"
     ]
    }
   ],
   "source": [
    "def normalize(x):\n",
    "    \"\"\"\n",
    "    Normalize a list of sample image data in the range of 0 to 1\n",
    "    : x: List of image data.  The image shape is (32, 32, 3)\n",
    "    : return: Numpy array of normalize data\n",
    "    \"\"\"\n",
    "    # TODO: Implement Function\n",
    "    return x / 255.\n",
    "\n",
    "\n",
    "\"\"\"\n",
    "DON'T MODIFY ANYTHING IN THIS CELL THAT IS BELOW THIS LINE\n",
    "\"\"\"\n",
    "tests.test_normalize(normalize)"
   ]
  },
  {
   "cell_type": "markdown",
   "metadata": {},
   "source": [
    "### One-hot encode\n",
    "Just like the previous code cell, you'll be implementing a function for preprocessing.  This time, you'll implement the `one_hot_encode` function. The input, `x`, are a list of labels.  Implement the function to return the list of labels as One-Hot encoded Numpy array.  The possible values for labels are 0 to 9. The one-hot encoding function should return the same encoding for each value between each call to `one_hot_encode`.  Make sure to save the map of encodings outside the function.\n",
    "\n",
    "Hint: Don't reinvent the wheel."
   ]
  },
  {
   "cell_type": "code",
   "execution_count": 4,
   "metadata": {
    "collapsed": false
   },
   "outputs": [
    {
     "name": "stdout",
     "output_type": "stream",
     "text": [
      "Tests Passed\n"
     ]
    }
   ],
   "source": [
    "def one_hot_encode(x):\n",
    "    \"\"\"\n",
    "    One hot encode a list of sample labels. Return a one-hot encoded vector for each label.\n",
    "    : x: List of sample Labels\n",
    "    : return: Numpy array of one-hot encoded labels\n",
    "    \"\"\"\n",
    "    # TODO: Implement Function\n",
    "    out = np.zeros((len(x), 10))\n",
    "    out[np.arange(len(x)), x] = 1\n",
    "    return out\n",
    "\n",
    "\n",
    "\"\"\"\n",
    "DON'T MODIFY ANYTHING IN THIS CELL THAT IS BELOW THIS LINE\n",
    "\"\"\"\n",
    "tests.test_one_hot_encode(one_hot_encode)"
   ]
  },
  {
   "cell_type": "markdown",
   "metadata": {},
   "source": [
    "### Randomize Data\n",
    "As you saw from exploring the data above, the order of the samples are randomized.  It doesn't hurt to randomize it again, but you don't need to for this dataset."
   ]
  },
  {
   "cell_type": "markdown",
   "metadata": {},
   "source": [
    "## Preprocess all the data and save it\n",
    "Running the code cell below will preprocess all the CIFAR-10 data and save it to file. The code below also uses 10% of the training data for validation."
   ]
  },
  {
   "cell_type": "code",
   "execution_count": 5,
   "metadata": {
    "collapsed": false
   },
   "outputs": [],
   "source": [
    "\"\"\"\n",
    "DON'T MODIFY ANYTHING IN THIS CELL\n",
    "\"\"\"\n",
    "# Preprocess Training, Validation, and Testing Data\n",
    "helper.preprocess_and_save_data(cifar10_dataset_folder_path, normalize, one_hot_encode)"
   ]
  },
  {
   "cell_type": "markdown",
   "metadata": {},
   "source": [
    "# Check Point\n",
    "This is your first checkpoint.  If you ever decide to come back to this notebook or have to restart the notebook, you can start from here.  The preprocessed data has been saved to disk."
   ]
  },
  {
   "cell_type": "code",
   "execution_count": 6,
   "metadata": {
    "collapsed": true
   },
   "outputs": [],
   "source": [
    "\"\"\"\n",
    "DON'T MODIFY ANYTHING IN THIS CELL\n",
    "\"\"\"\n",
    "import pickle\n",
    "import problem_unittests as tests\n",
    "import helper\n",
    "\n",
    "# Load the Preprocessed Validation data\n",
    "valid_features, valid_labels = pickle.load(open('preprocess_validation.p', mode='rb'))"
   ]
  },
  {
   "cell_type": "markdown",
   "metadata": {},
   "source": [
    "## Build the network\n",
    "For the neural network, you'll build each layer into a function.  Most of the code you've seen has been outside of functions. To test your code more thoroughly, we require that you put each layer in a function.  This allows us to give you better feedback and test for simple mistakes using our unittests before you submit your project.\n",
    "\n",
    ">**Note:** If you're finding it hard to dedicate enough time for this course each week, we've provided a small shortcut to this part of the project. In the next couple of problems, you'll have the option to use classes from the [TensorFlow Layers](https://www.tensorflow.org/api_docs/python/tf/layers) or [TensorFlow Layers (contrib)](https://www.tensorflow.org/api_guides/python/contrib.layers) packages to build each layer, except the layers you build in the \"Convolutional and Max Pooling Layer\" section.  TF Layers is similar to Keras's and TFLearn's abstraction to layers, so it's easy to pickup.\n",
    "\n",
    ">However, if you would like to get the most out of this course, try to solve all the problems _without_ using anything from the TF Layers packages. You **can** still use classes from other packages that happen to have the same name as ones you find in TF Layers! For example, instead of using the TF Layers version of the `conv2d` class, [tf.layers.conv2d](https://www.tensorflow.org/api_docs/python/tf/layers/conv2d), you would want to use the TF Neural Network version of `conv2d`, [tf.nn.conv2d](https://www.tensorflow.org/api_docs/python/tf/nn/conv2d). \n",
    "\n",
    "Let's begin!\n",
    "\n",
    "### Input\n",
    "The neural network needs to read the image data, one-hot encoded labels, and dropout keep probability. Implement the following functions\n",
    "* Implement `neural_net_image_input`\n",
    " * Return a [TF Placeholder](https://www.tensorflow.org/api_docs/python/tf/placeholder)\n",
    " * Set the shape using `image_shape` with batch size set to `None`.\n",
    " * Name the TensorFlow placeholder \"x\" using the TensorFlow `name` parameter in the [TF Placeholder](https://www.tensorflow.org/api_docs/python/tf/placeholder).\n",
    "* Implement `neural_net_label_input`\n",
    " * Return a [TF Placeholder](https://www.tensorflow.org/api_docs/python/tf/placeholder)\n",
    " * Set the shape using `n_classes` with batch size set to `None`.\n",
    " * Name the TensorFlow placeholder \"y\" using the TensorFlow `name` parameter in the [TF Placeholder](https://www.tensorflow.org/api_docs/python/tf/placeholder).\n",
    "* Implement `neural_net_keep_prob_input`\n",
    " * Return a [TF Placeholder](https://www.tensorflow.org/api_docs/python/tf/placeholder) for dropout keep probability.\n",
    " * Name the TensorFlow placeholder \"keep_prob\" using the TensorFlow `name` parameter in the [TF Placeholder](https://www.tensorflow.org/api_docs/python/tf/placeholder).\n",
    "\n",
    "These names will be used at the end of the project to load your saved model.\n",
    "\n",
    "Note: `None` for shapes in TensorFlow allow for a dynamic size."
   ]
  },
  {
   "cell_type": "code",
   "execution_count": 7,
   "metadata": {
    "collapsed": false
   },
   "outputs": [
    {
     "name": "stdout",
     "output_type": "stream",
     "text": [
      "Image Input Tests Passed.\n",
      "Label Input Tests Passed.\n",
      "Keep Prob Tests Passed.\n"
     ]
    }
   ],
   "source": [
    "import tensorflow as tf\n",
    "\n",
    "def neural_net_image_input(image_shape):\n",
    "    \"\"\"\n",
    "    Return a Tensor for a batch of image input\n",
    "    : image_shape: Shape of the images\n",
    "    : return: Tensor for image input.\n",
    "    \"\"\"\n",
    "    # TODO: Implement Function\n",
    "    x = tf.placeholder(tf.float32, [None] + list(image_shape), 'x')\n",
    "    return x\n",
    "\n",
    "\n",
    "def neural_net_label_input(n_classes):\n",
    "    \"\"\"\n",
    "    Return a Tensor for a batch of label input\n",
    "    : n_classes: Number of classes\n",
    "    : return: Tensor for label input.\n",
    "    \"\"\"\n",
    "    # TODO: Implement Function\n",
    "    y = tf.placeholder(tf.float32, [None, n_classes], 'y')\n",
    "    return y\n",
    "\n",
    "\n",
    "def neural_net_keep_prob_input():\n",
    "    \"\"\"\n",
    "    Return a Tensor for keep probability\n",
    "    : return: Tensor for keep probability.\n",
    "    \"\"\"\n",
    "    # TODO: Implement Function\n",
    "    keep_prob = tf.placeholder(tf.float32, name='keep_prob')\n",
    "    return keep_prob\n",
    "\n",
    "\n",
    "\"\"\"\n",
    "DON'T MODIFY ANYTHING IN THIS CELL THAT IS BELOW THIS LINE\n",
    "\"\"\"\n",
    "tf.reset_default_graph()\n",
    "tests.test_nn_image_inputs(neural_net_image_input)\n",
    "tests.test_nn_label_inputs(neural_net_label_input)\n",
    "tests.test_nn_keep_prob_inputs(neural_net_keep_prob_input)"
   ]
  },
  {
   "cell_type": "markdown",
   "metadata": {},
   "source": [
    "### Convolution and Max Pooling Layer\n",
    "Convolution layers have a lot of success with images. For this code cell, you should implement the function `conv2d_maxpool` to apply convolution then max pooling:\n",
    "* Create the weight and bias using `conv_ksize`, `conv_num_outputs` and the shape of `x_tensor`.\n",
    "* Apply a convolution to `x_tensor` using weight and `conv_strides`.\n",
    " * We recommend you use same padding, but you're welcome to use any padding.\n",
    "* Add bias\n",
    "* Add a nonlinear activation to the convolution.\n",
    "* Apply Max Pooling using `pool_ksize` and `pool_strides`.\n",
    " * We recommend you use same padding, but you're welcome to use any padding.\n",
    "\n",
    "**Note:** You **can't** use [TensorFlow Layers](https://www.tensorflow.org/api_docs/python/tf/layers) or [TensorFlow Layers (contrib)](https://www.tensorflow.org/api_guides/python/contrib.layers) for **this** layer, but you can still use TensorFlow's [Neural Network](https://www.tensorflow.org/api_docs/python/tf/nn) package. You may still use the shortcut option for all the **other** layers."
   ]
  },
  {
   "cell_type": "code",
   "execution_count": 8,
   "metadata": {
    "collapsed": false
   },
   "outputs": [
    {
     "name": "stdout",
     "output_type": "stream",
     "text": [
      "Tests Passed\n"
     ]
    }
   ],
   "source": [
    "def conv2d_maxpool(x_tensor, conv_num_outputs, conv_ksize, conv_strides, pool_ksize, pool_strides):\n",
    "    \"\"\"\n",
    "    Apply convolution then max pooling to x_tensor\n",
    "    :param x_tensor: TensorFlow Tensor\n",
    "    :param conv_num_outputs: Number of outputs for the convolutional layer\n",
    "    :param conv_ksize: kernal size 2-D Tuple for the convolutional layer\n",
    "    :param conv_strides: Stride 2-D Tuple for convolution\n",
    "    :param pool_ksize: kernal size 2-D Tuple for pool\n",
    "    :param pool_strides: Stride 2-D Tuple for pool\n",
    "    : return: A tensor that represents convolution and max pooling of x_tensor\n",
    "    \"\"\"\n",
    "    # TODO: Implement Function\n",
    "    \n",
    "    # need to know the input dimensions\n",
    "    in_shape = x_tensor.get_shape().as_list()\n",
    "    \n",
    "    # shape of the weight tensor, (filter_height, filter_width, input depth, output depth)\n",
    "    weight_shape = (conv_ksize[0], conv_ksize[1], in_shape[3], conv_num_outputs)\n",
    "    \n",
    "    # fliter weight\n",
    "    W = tf.Variable(tf.truncated_normal(weight_shape, stddev=0.1))\n",
    "    \n",
    "    # bias\n",
    "    b = tf.Variable(tf.zeros(conv_num_outputs))\n",
    "    \n",
    "    # convolution strides, (batch_size, stride_height, stride_width, depth)\n",
    "    c_strides = [1, conv_strides[0], conv_strides[1], 1]\n",
    "    \n",
    "    # convolution layer\n",
    "    conv2d = tf.nn.conv2d(x_tensor, W, c_strides, 'SAME') + b\n",
    "\n",
    "    # max pool size, (batch_size, pool_height, pool_width, depth)\n",
    "    p_ksize = [1, pool_ksize[0], pool_ksize[1], 1]\n",
    "    \n",
    "    # max pool stride, (batch_size, stride_height, stride_width, depth)\n",
    "    p_strides = [1, pool_strides[0], pool_strides[1], 1]\n",
    "    \n",
    "    # max pool layer\n",
    "    max_pool = tf.nn.max_pool(conv2d, p_ksize, p_strides, 'SAME')\n",
    "    \n",
    "    return max_pool \n",
    "\n",
    "\n",
    "\"\"\"\n",
    "DON'T MODIFY ANYTHING IN THIS CELL THAT IS BELOW THIS LINE\n",
    "\"\"\"\n",
    "tests.test_con_pool(conv2d_maxpool)"
   ]
  },
  {
   "cell_type": "markdown",
   "metadata": {},
   "source": [
    "### Flatten Layer\n",
    "Implement the `flatten` function to change the dimension of `x_tensor` from a 4-D tensor to a 2-D tensor.  The output should be the shape (*Batch Size*, *Flattened Image Size*). Shortcut option: you can use classes from the [TensorFlow Layers](https://www.tensorflow.org/api_docs/python/tf/layers) or [TensorFlow Layers (contrib)](https://www.tensorflow.org/api_guides/python/contrib.layers) packages for this layer. For more of a challenge, only use other TensorFlow packages."
   ]
  },
  {
   "cell_type": "code",
   "execution_count": 9,
   "metadata": {
    "collapsed": false
   },
   "outputs": [
    {
     "name": "stdout",
     "output_type": "stream",
     "text": [
      "Tests Passed\n"
     ]
    }
   ],
   "source": [
    "def flatten(x_tensor):\n",
    "    \"\"\"\n",
    "    Flatten x_tensor to (Batch Size, Flattened Image Size)\n",
    "    : x_tensor: A tensor of size (Batch Size, ...), where ... are the image dimensions.\n",
    "    : return: A tensor of size (Batch Size, Flattened Image Size).\n",
    "    \"\"\"\n",
    "    # TODO: Implement Function\n",
    "    x_shape = x_tensor.get_shape().as_list()\n",
    "    new_shape = [tf.shape(x_tensor)[0], x_shape[1] * x_shape[2] * x_shape[3]]\n",
    "        \n",
    "    x_flattened = tf.reshape(x_tensor, new_shape)\n",
    "    \n",
    "    return x_flattened\n",
    "\n",
    "\n",
    "\"\"\"\n",
    "DON'T MODIFY ANYTHING IN THIS CELL THAT IS BELOW THIS LINE\n",
    "\"\"\"\n",
    "tests.test_flatten(flatten)"
   ]
  },
  {
   "cell_type": "markdown",
   "metadata": {},
   "source": [
    "### Fully-Connected Layer\n",
    "Implement the `fully_conn` function to apply a fully connected layer to `x_tensor` with the shape (*Batch Size*, *num_outputs*). Shortcut option: you can use classes from the [TensorFlow Layers](https://www.tensorflow.org/api_docs/python/tf/layers) or [TensorFlow Layers (contrib)](https://www.tensorflow.org/api_guides/python/contrib.layers) packages for this layer. For more of a challenge, only use other TensorFlow packages."
   ]
  },
  {
   "cell_type": "code",
   "execution_count": 10,
   "metadata": {
    "collapsed": false
   },
   "outputs": [
    {
     "name": "stdout",
     "output_type": "stream",
     "text": [
      "Tests Passed\n"
     ]
    }
   ],
   "source": [
    "def fully_conn(x_tensor, num_outputs):\n",
    "    \"\"\"\n",
    "    Apply a fully connected layer to x_tensor using weight and bias\n",
    "    : x_tensor: A 2-D tensor where the first dimension is batch size.\n",
    "    : num_outputs: The number of output that the new tensor should be.\n",
    "    : return: A 2-D tensor where the second dimension is num_outputs.\n",
    "    \"\"\"\n",
    "    # TODO: Implement Function\n",
    "    weights_shape = [x_tensor.get_shape().as_list()[1], num_outputs]\n",
    "    \n",
    "    W = tf.Variable(tf.truncated_normal(weights_shape, stddev=0.1))\n",
    "    b = tf.Variable(tf.zeros(num_outputs))\n",
    "    \n",
    "    layer = tf.matmul(x_tensor, W) + b\n",
    "    \n",
    "    return layer\n",
    "\n",
    "\n",
    "\"\"\"\n",
    "DON'T MODIFY ANYTHING IN THIS CELL THAT IS BELOW THIS LINE\n",
    "\"\"\"\n",
    "tests.test_fully_conn(fully_conn)"
   ]
  },
  {
   "cell_type": "markdown",
   "metadata": {},
   "source": [
    "### Output Layer\n",
    "Implement the `output` function to apply a fully connected layer to `x_tensor` with the shape (*Batch Size*, *num_outputs*). Shortcut option: you can use classes from the [TensorFlow Layers](https://www.tensorflow.org/api_docs/python/tf/layers) or [TensorFlow Layers (contrib)](https://www.tensorflow.org/api_guides/python/contrib.layers) packages for this layer. For more of a challenge, only use other TensorFlow packages.\n",
    "\n",
    "**Note:** Activation, softmax, or cross entropy should **not** be applied to this."
   ]
  },
  {
   "cell_type": "code",
   "execution_count": 11,
   "metadata": {
    "collapsed": false
   },
   "outputs": [
    {
     "name": "stdout",
     "output_type": "stream",
     "text": [
      "Tests Passed\n"
     ]
    }
   ],
   "source": [
    "def output(x_tensor, num_outputs):\n",
    "    \"\"\"\n",
    "    Apply a output layer to x_tensor using weight and bias\n",
    "    : x_tensor: A 2-D tensor where the first dimension is batch size.\n",
    "    : num_outputs: The number of output that the new tensor should be.\n",
    "    : return: A 2-D tensor where the second dimension is num_outputs.\n",
    "    \"\"\"\n",
    "    # TODO: Implement Function\n",
    "    return fully_conn(x_tensor, num_outputs)\n",
    "\n",
    "\n",
    "\"\"\"\n",
    "DON'T MODIFY ANYTHING IN THIS CELL THAT IS BELOW THIS LINE\n",
    "\"\"\"\n",
    "tests.test_output(output)"
   ]
  },
  {
   "cell_type": "markdown",
   "metadata": {},
   "source": [
    "### Create Convolutional Model\n",
    "Implement the function `conv_net` to create a convolutional neural network model. The function takes in a batch of images, `x`, and outputs logits.  Use the layers you created above to create this model:\n",
    "\n",
    "* Apply 1, 2, or 3 Convolution and Max Pool layers\n",
    "* Apply a Flatten Layer\n",
    "* Apply 1, 2, or 3 Fully Connected Layers\n",
    "* Apply an Output Layer\n",
    "* Return the output\n",
    "* Apply [TensorFlow's Dropout](https://www.tensorflow.org/api_docs/python/tf/nn/dropout) to one or more layers in the model using `keep_prob`. "
   ]
  },
  {
   "cell_type": "code",
   "execution_count": 14,
   "metadata": {
    "collapsed": false
   },
   "outputs": [
    {
     "name": "stdout",
     "output_type": "stream",
     "text": [
      "Neural Network Built!\n"
     ]
    }
   ],
   "source": [
    "def conv_net(x, keep_prob):\n",
    "    \"\"\"\n",
    "    Create a convolutional neural network model\n",
    "    : x: Placeholder tensor that holds image data.\n",
    "    : keep_prob: Placeholder tensor that hold dropout keep probability.\n",
    "    : return: Tensor that represents logits\n",
    "    \"\"\"\n",
    "    # TODO: Apply 1, 2, or 3 Convolution and Max Pool layers\n",
    "    #    Play around with different number of outputs, kernel size and stride\n",
    "    # Function Definition from Above:\n",
    "    #    conv2d_maxpool(x_tensor, conv_num_outputs, conv_ksize, conv_strides, pool_ksize, pool_strides)\n",
    "    \n",
    "    conv_ksize = (5,5)\n",
    "    pool_ksize = (3,3)\n",
    "    \n",
    "    conv_stride = (1,1)\n",
    "    pool_stride = (1,1)\n",
    "    \n",
    "    net = conv2d_maxpool(x, 32, conv_ksize, conv_stride, pool_ksize, pool_stride)\n",
    "    net = conv2d_maxpool(x, 64, conv_ksize, conv_stride, pool_ksize, pool_stride)    \n",
    "    net = conv2d_maxpool(x, 96, conv_ksize, conv_stride, pool_ksize, pool_stride)\n",
    "    net = tf.nn.dropout(net, keep_prob)\n",
    "    \n",
    "    # TODO: Apply a Flatten Layer\n",
    "    # Function Definition from Above:\n",
    "    #   flatten(x_tensor)\n",
    "    \n",
    "    net = flatten(net)\n",
    "\n",
    "    # TODO: Apply 1, 2, or 3 Fully Connected Layers\n",
    "    #    Play around with different number of outputs\n",
    "    # Function Definition from Above:\n",
    "    #   fully_conn(x_tensor, num_outputs)\n",
    "    \n",
    "    net = fully_conn(net, 96)\n",
    "    net = tf.nn.dropout(net, keep_prob)\n",
    "    net = fully_conn(net, 64)\n",
    "    net = tf.nn.dropout(net, keep_prob)\n",
    "    net = fully_conn(net, 32)\n",
    "    # TODO: Apply an Output Layer\n",
    "    #    Set this to the number of classes\n",
    "    # Function Definition from Above:\n",
    "    #   output(x_tensor, num_outputs)\n",
    "    \n",
    "    net = output(net, 10)\n",
    "    \n",
    "    # TODO: return output\n",
    "    return net\n",
    "\n",
    "\n",
    "\"\"\"\n",
    "DON'T MODIFY ANYTHING IN THIS CELL THAT IS BELOW THIS LINE\n",
    "\"\"\"\n",
    "\n",
    "##############################\n",
    "## Build the Neural Network ##\n",
    "##############################\n",
    "\n",
    "# Remove previous weights, bias, inputs, etc..\n",
    "tf.reset_default_graph()\n",
    "\n",
    "# Inputs\n",
    "x = neural_net_image_input((32, 32, 3))\n",
    "y = neural_net_label_input(10)\n",
    "keep_prob = neural_net_keep_prob_input()\n",
    "\n",
    "# Model\n",
    "logits = conv_net(x, keep_prob)\n",
    "\n",
    "# Name logits Tensor, so that is can be loaded from disk after training\n",
    "logits = tf.identity(logits, name='logits')\n",
    "\n",
    "# Loss and Optimizer\n",
    "cost = tf.reduce_mean(tf.nn.softmax_cross_entropy_with_logits(logits=logits, labels=y))\n",
    "optimizer = tf.train.AdamOptimizer().minimize(cost)\n",
    "\n",
    "# Accuracy\n",
    "correct_pred = tf.equal(tf.argmax(logits, 1), tf.argmax(y, 1))\n",
    "accuracy = tf.reduce_mean(tf.cast(correct_pred, tf.float32), name='accuracy')\n",
    "\n",
    "tests.test_conv_net(conv_net)"
   ]
  },
  {
   "cell_type": "markdown",
   "metadata": {},
   "source": [
    "## Train the Neural Network\n",
    "### Single Optimization\n",
    "Implement the function `train_neural_network` to do a single optimization.  The optimization should use `optimizer` to optimize in `session` with a `feed_dict` of the following:\n",
    "* `x` for image input\n",
    "* `y` for labels\n",
    "* `keep_prob` for keep probability for dropout\n",
    "\n",
    "This function will be called for each batch, so `tf.global_variables_initializer()` has already been called.\n",
    "\n",
    "Note: Nothing needs to be returned. This function is only optimizing the neural network."
   ]
  },
  {
   "cell_type": "code",
   "execution_count": 15,
   "metadata": {
    "collapsed": false
   },
   "outputs": [
    {
     "name": "stdout",
     "output_type": "stream",
     "text": [
      "Tests Passed\n"
     ]
    }
   ],
   "source": [
    "def train_neural_network(session, optimizer, keep_probability, feature_batch, label_batch):\n",
    "    \"\"\"\n",
    "    Optimize the session on a batch of images and labels\n",
    "    : session: Current TensorFlow session\n",
    "    : optimizer: TensorFlow optimizer function\n",
    "    : keep_probability: keep probability\n",
    "    : feature_batch: Batch of Numpy image data\n",
    "    : label_batch: Batch of Numpy label data\n",
    "    \"\"\"\n",
    "    # TODO: Implement Function\n",
    "    train_feed_dict = {\n",
    "                x: feature_batch,\n",
    "                y: label_batch,\n",
    "                keep_prob: keep_probability}\n",
    "    session.run(optimizer, feed_dict=train_feed_dict)\n",
    "        \n",
    "    \n",
    "    pass\n",
    "\n",
    "\n",
    "\"\"\"\n",
    "DON'T MODIFY ANYTHING IN THIS CELL THAT IS BELOW THIS LINE\n",
    "\"\"\"\n",
    "tests.test_train_nn(train_neural_network)"
   ]
  },
  {
   "cell_type": "markdown",
   "metadata": {},
   "source": [
    "### Show Stats\n",
    "Implement the function `print_stats` to print loss and validation accuracy.  Use the global variables `valid_features` and `valid_labels` to calculate validation accuracy.  Use a keep probability of `1.0` to calculate the loss and validation accuracy."
   ]
  },
  {
   "cell_type": "code",
   "execution_count": 16,
   "metadata": {
    "collapsed": false
   },
   "outputs": [],
   "source": [
    "def print_stats(session, feature_batch, label_batch, cost, accuracy):\n",
    "    \"\"\"\n",
    "    Print information about loss and validation accuracy\n",
    "    : session: Current TensorFlow session\n",
    "    : feature_batch: Batch of Numpy image data\n",
    "    : label_batch: Batch of Numpy label data\n",
    "    : cost: TensorFlow cost function\n",
    "    : accuracy: TensorFlow accuracy function\n",
    "    \"\"\"\n",
    "    # TODO: Implement Function\n",
    "    print()\n",
    "    print('Cost    :    ', \n",
    "          session.run(cost, {x: feature_batch,\n",
    "                            y: label_batch,\n",
    "                            keep_prob: 1}))\n",
    "    print('Validation Accuracy    :    ',\n",
    "         session.run(accuracy, {x: valid_features,\n",
    "                               y: valid_labels,\n",
    "                               keep_prob: 1}))\n",
    "    print()\n",
    "    \n",
    "          \n",
    "    \n",
    "    pass"
   ]
  },
  {
   "cell_type": "markdown",
   "metadata": {},
   "source": [
    "### Hyperparameters\n",
    "Tune the following parameters:\n",
    "* Set `epochs` to the number of iterations until the network stops learning or start overfitting\n",
    "* Set `batch_size` to the highest number that your machine has memory for.  Most people set them to common sizes of memory:\n",
    " * 64\n",
    " * 128\n",
    " * 256\n",
    " * ...\n",
    "* Set `keep_probability` to the probability of keeping a node using dropout"
   ]
  },
  {
   "cell_type": "code",
   "execution_count": 17,
   "metadata": {
    "collapsed": true
   },
   "outputs": [],
   "source": [
    "# TODO: Tune Parameters\n",
    "epochs = 15\n",
    "batch_size = 64\n",
    "keep_probability = 0.6"
   ]
  },
  {
   "cell_type": "markdown",
   "metadata": {},
   "source": [
    "### Train on a Single CIFAR-10 Batch\n",
    "Instead of training the neural network on all the CIFAR-10 batches of data, let's use a single batch. This should save time while you iterate on the model to get a better accuracy.  Once the final validation accuracy is 50% or greater, run the model on all the data in the next section."
   ]
  },
  {
   "cell_type": "code",
   "execution_count": 18,
   "metadata": {
    "collapsed": false
   },
   "outputs": [
    {
     "name": "stdout",
     "output_type": "stream",
     "text": [
      "Checking the Training on a Single Batch...\n",
      "Epoch  1, CIFAR-10 Batch 1:  \n",
      "Cost    :     1.87534\n",
      "Validation Accuracy    :     0.4346\n",
      "\n",
      "Epoch  2, CIFAR-10 Batch 1:  \n",
      "Cost    :     1.73791\n",
      "Validation Accuracy    :     0.4628\n",
      "\n",
      "Epoch  3, CIFAR-10 Batch 1:  \n",
      "Cost    :     1.65048\n",
      "Validation Accuracy    :     0.48\n",
      "\n",
      "Epoch  4, CIFAR-10 Batch 1:  \n",
      "Cost    :     1.52268\n",
      "Validation Accuracy    :     0.5018\n",
      "\n",
      "Epoch  5, CIFAR-10 Batch 1:  \n",
      "Cost    :     1.47777\n",
      "Validation Accuracy    :     0.4978\n",
      "\n",
      "Epoch  6, CIFAR-10 Batch 1:  \n",
      "Cost    :     1.35484\n",
      "Validation Accuracy    :     0.5154\n",
      "\n",
      "Epoch  7, CIFAR-10 Batch 1:  \n",
      "Cost    :     1.33398\n",
      "Validation Accuracy    :     0.5154\n",
      "\n",
      "Epoch  8, CIFAR-10 Batch 1:  \n",
      "Cost    :     1.35533\n",
      "Validation Accuracy    :     0.5124\n",
      "\n",
      "Epoch  9, CIFAR-10 Batch 1:  \n",
      "Cost    :     1.21641\n",
      "Validation Accuracy    :     0.539\n",
      "\n",
      "Epoch 10, CIFAR-10 Batch 1:  \n",
      "Cost    :     1.21677\n",
      "Validation Accuracy    :     0.5234\n",
      "\n",
      "Epoch 11, CIFAR-10 Batch 1:  \n",
      "Cost    :     1.09289\n",
      "Validation Accuracy    :     0.5344\n",
      "\n",
      "Epoch 12, CIFAR-10 Batch 1:  \n",
      "Cost    :     1.15154\n",
      "Validation Accuracy    :     0.549\n",
      "\n",
      "Epoch 13, CIFAR-10 Batch 1:  \n",
      "Cost    :     0.909859\n",
      "Validation Accuracy    :     0.5386\n",
      "\n",
      "Epoch 14, CIFAR-10 Batch 1:  \n",
      "Cost    :     0.89468\n",
      "Validation Accuracy    :     0.529\n",
      "\n",
      "Epoch 15, CIFAR-10 Batch 1:  \n",
      "Cost    :     1.01842\n",
      "Validation Accuracy    :     0.5486\n",
      "\n"
     ]
    }
   ],
   "source": [
    "\"\"\"\n",
    "DON'T MODIFY ANYTHING IN THIS CELL\n",
    "\"\"\"\n",
    "print('Checking the Training on a Single Batch...')\n",
    "with tf.Session() as sess:\n",
    "    # Initializing the variables\n",
    "    sess.run(tf.global_variables_initializer())\n",
    "    \n",
    "    # Training cycle\n",
    "    for epoch in range(epochs):\n",
    "        batch_i = 1\n",
    "        for batch_features, batch_labels in helper.load_preprocess_training_batch(batch_i, batch_size):\n",
    "            train_neural_network(sess, optimizer, keep_probability, batch_features, batch_labels)\n",
    "        print('Epoch {:>2}, CIFAR-10 Batch {}:  '.format(epoch + 1, batch_i), end='')\n",
    "        print_stats(sess, batch_features, batch_labels, cost, accuracy)"
   ]
  },
  {
   "cell_type": "markdown",
   "metadata": {},
   "source": [
    "### Fully Train the Model\n",
    "Now that you got a good accuracy with a single CIFAR-10 batch, try it with all five batches."
   ]
  },
  {
   "cell_type": "code",
   "execution_count": 19,
   "metadata": {
    "collapsed": false
   },
   "outputs": [
    {
     "name": "stdout",
     "output_type": "stream",
     "text": [
      "Training...\n",
      "Epoch  1, CIFAR-10 Batch 1:  \n",
      "Cost    :     1.7648\n",
      "Validation Accuracy    :     0.4188\n",
      "\n",
      "Epoch  1, CIFAR-10 Batch 2:  \n",
      "Cost    :     1.444\n",
      "Validation Accuracy    :     0.4514\n",
      "\n",
      "Epoch  1, CIFAR-10 Batch 3:  \n",
      "Cost    :     1.48606\n",
      "Validation Accuracy    :     0.4606\n",
      "\n",
      "Epoch  1, CIFAR-10 Batch 4:  \n",
      "Cost    :     1.44397\n",
      "Validation Accuracy    :     0.4826\n",
      "\n",
      "Epoch  1, CIFAR-10 Batch 5:  \n",
      "Cost    :     1.49906\n",
      "Validation Accuracy    :     0.5106\n",
      "\n",
      "Epoch  2, CIFAR-10 Batch 1:  \n",
      "Cost    :     1.54566\n",
      "Validation Accuracy    :     0.5186\n",
      "\n",
      "Epoch  2, CIFAR-10 Batch 2:  \n",
      "Cost    :     1.18592\n",
      "Validation Accuracy    :     0.5256\n",
      "\n",
      "Epoch  2, CIFAR-10 Batch 3:  \n",
      "Cost    :     1.2791\n",
      "Validation Accuracy    :     0.5242\n",
      "\n",
      "Epoch  2, CIFAR-10 Batch 4:  \n",
      "Cost    :     1.23534\n",
      "Validation Accuracy    :     0.5428\n",
      "\n",
      "Epoch  2, CIFAR-10 Batch 5:  \n",
      "Cost    :     1.27386\n",
      "Validation Accuracy    :     0.5544\n",
      "\n",
      "Epoch  3, CIFAR-10 Batch 1:  \n",
      "Cost    :     1.43227\n",
      "Validation Accuracy    :     0.5494\n",
      "\n",
      "Epoch  3, CIFAR-10 Batch 2:  \n",
      "Cost    :     1.06792\n",
      "Validation Accuracy    :     0.5588\n",
      "\n",
      "Epoch  3, CIFAR-10 Batch 3:  \n",
      "Cost    :     1.08639\n",
      "Validation Accuracy    :     0.5686\n",
      "\n",
      "Epoch  3, CIFAR-10 Batch 4:  \n",
      "Cost    :     1.16201\n",
      "Validation Accuracy    :     0.5772\n",
      "\n",
      "Epoch  3, CIFAR-10 Batch 5:  \n",
      "Cost    :     1.20183\n",
      "Validation Accuracy    :     0.5744\n",
      "\n",
      "Epoch  4, CIFAR-10 Batch 1:  \n",
      "Cost    :     1.28276\n",
      "Validation Accuracy    :     0.5914\n",
      "\n",
      "Epoch  4, CIFAR-10 Batch 2:  \n",
      "Cost    :     0.932809\n",
      "Validation Accuracy    :     0.5846\n",
      "\n",
      "Epoch  4, CIFAR-10 Batch 3:  \n",
      "Cost    :     1.02398\n",
      "Validation Accuracy    :     0.5942\n",
      "\n",
      "Epoch  4, CIFAR-10 Batch 4:  \n",
      "Cost    :     1.1475\n",
      "Validation Accuracy    :     0.582\n",
      "\n",
      "Epoch  4, CIFAR-10 Batch 5:  \n",
      "Cost    :     1.06525\n",
      "Validation Accuracy    :     0.5768\n",
      "\n",
      "Epoch  5, CIFAR-10 Batch 1:  \n",
      "Cost    :     1.23333\n",
      "Validation Accuracy    :     0.575\n",
      "\n",
      "Epoch  5, CIFAR-10 Batch 2:  \n",
      "Cost    :     0.899274\n",
      "Validation Accuracy    :     0.5986\n",
      "\n",
      "Epoch  5, CIFAR-10 Batch 3:  \n",
      "Cost    :     0.924367\n",
      "Validation Accuracy    :     0.6072\n",
      "\n",
      "Epoch  5, CIFAR-10 Batch 4:  \n",
      "Cost    :     1.08189\n",
      "Validation Accuracy    :     0.6102\n",
      "\n",
      "Epoch  5, CIFAR-10 Batch 5:  \n",
      "Cost    :     0.978151\n",
      "Validation Accuracy    :     0.6108\n",
      "\n",
      "Epoch  6, CIFAR-10 Batch 1:  \n",
      "Cost    :     1.13167\n",
      "Validation Accuracy    :     0.5654\n",
      "\n",
      "Epoch  6, CIFAR-10 Batch 2:  \n",
      "Cost    :     0.836659\n",
      "Validation Accuracy    :     0.6158\n",
      "\n",
      "Epoch  6, CIFAR-10 Batch 3:  \n",
      "Cost    :     0.921791\n",
      "Validation Accuracy    :     0.604\n",
      "\n",
      "Epoch  6, CIFAR-10 Batch 4:  \n",
      "Cost    :     0.949414\n",
      "Validation Accuracy    :     0.618\n",
      "\n",
      "Epoch  6, CIFAR-10 Batch 5:  \n",
      "Cost    :     0.940702\n",
      "Validation Accuracy    :     0.6106\n",
      "\n",
      "Epoch  7, CIFAR-10 Batch 1:  \n",
      "Cost    :     1.12063\n",
      "Validation Accuracy    :     0.5704\n",
      "\n",
      "Epoch  7, CIFAR-10 Batch 2:  \n",
      "Cost    :     0.807443\n",
      "Validation Accuracy    :     0.6108\n",
      "\n",
      "Epoch  7, CIFAR-10 Batch 3:  \n",
      "Cost    :     0.845962\n",
      "Validation Accuracy    :     0.6124\n",
      "\n",
      "Epoch  7, CIFAR-10 Batch 4:  \n",
      "Cost    :     0.925983\n",
      "Validation Accuracy    :     0.6196\n",
      "\n",
      "Epoch  7, CIFAR-10 Batch 5:  \n",
      "Cost    :     0.987827\n",
      "Validation Accuracy    :     0.5864\n",
      "\n",
      "Epoch  8, CIFAR-10 Batch 1:  \n",
      "Cost    :     1.11034\n",
      "Validation Accuracy    :     0.596\n",
      "\n",
      "Epoch  8, CIFAR-10 Batch 2:  \n",
      "Cost    :     0.750923\n",
      "Validation Accuracy    :     0.5974\n",
      "\n",
      "Epoch  8, CIFAR-10 Batch 3:  \n",
      "Cost    :     0.759578\n",
      "Validation Accuracy    :     0.6108\n",
      "\n",
      "Epoch  8, CIFAR-10 Batch 4:  \n",
      "Cost    :     0.91258\n",
      "Validation Accuracy    :     0.6262\n",
      "\n",
      "Epoch  8, CIFAR-10 Batch 5:  \n",
      "Cost    :     0.84376\n",
      "Validation Accuracy    :     0.5998\n",
      "\n",
      "Epoch  9, CIFAR-10 Batch 1:  \n",
      "Cost    :     0.988711\n",
      "Validation Accuracy    :     0.5776\n",
      "\n",
      "Epoch  9, CIFAR-10 Batch 2:  \n",
      "Cost    :     0.783526\n",
      "Validation Accuracy    :     0.6152\n",
      "\n",
      "Epoch  9, CIFAR-10 Batch 3:  \n",
      "Cost    :     0.787494\n",
      "Validation Accuracy    :     0.6064\n",
      "\n",
      "Epoch  9, CIFAR-10 Batch 4:  \n",
      "Cost    :     0.872958\n",
      "Validation Accuracy    :     0.6306\n",
      "\n",
      "Epoch  9, CIFAR-10 Batch 5:  \n",
      "Cost    :     0.751799\n",
      "Validation Accuracy    :     0.6152\n",
      "\n",
      "Epoch 10, CIFAR-10 Batch 1:  \n",
      "Cost    :     1.07971\n",
      "Validation Accuracy    :     0.5838\n",
      "\n",
      "Epoch 10, CIFAR-10 Batch 2:  \n",
      "Cost    :     0.695134\n",
      "Validation Accuracy    :     0.611\n",
      "\n",
      "Epoch 10, CIFAR-10 Batch 3:  \n",
      "Cost    :     0.73482\n",
      "Validation Accuracy    :     0.6238\n",
      "\n",
      "Epoch 10, CIFAR-10 Batch 4:  \n",
      "Cost    :     0.802972\n",
      "Validation Accuracy    :     0.6356\n",
      "\n",
      "Epoch 10, CIFAR-10 Batch 5:  \n",
      "Cost    :     0.832068\n",
      "Validation Accuracy    :     0.6064\n",
      "\n",
      "Epoch 11, CIFAR-10 Batch 1:  \n",
      "Cost    :     0.946778\n",
      "Validation Accuracy    :     0.5926\n",
      "\n",
      "Epoch 11, CIFAR-10 Batch 2:  \n",
      "Cost    :     0.658403\n",
      "Validation Accuracy    :     0.6198\n",
      "\n",
      "Epoch 11, CIFAR-10 Batch 3:  \n",
      "Cost    :     0.780065\n",
      "Validation Accuracy    :     0.6164\n",
      "\n",
      "Epoch 11, CIFAR-10 Batch 4:  \n",
      "Cost    :     0.794856\n",
      "Validation Accuracy    :     0.6334\n",
      "\n",
      "Epoch 11, CIFAR-10 Batch 5:  \n",
      "Cost    :     0.753298\n",
      "Validation Accuracy    :     0.6278\n",
      "\n",
      "Epoch 12, CIFAR-10 Batch 1:  \n",
      "Cost    :     0.935484\n",
      "Validation Accuracy    :     0.581\n",
      "\n",
      "Epoch 12, CIFAR-10 Batch 2:  \n",
      "Cost    :     0.639852\n",
      "Validation Accuracy    :     0.6286\n",
      "\n",
      "Epoch 12, CIFAR-10 Batch 3:  \n",
      "Cost    :     0.697871\n",
      "Validation Accuracy    :     0.624\n",
      "\n",
      "Epoch 12, CIFAR-10 Batch 4:  \n",
      "Cost    :     0.736695\n",
      "Validation Accuracy    :     0.6432\n",
      "\n",
      "Epoch 12, CIFAR-10 Batch 5:  \n",
      "Cost    :     0.722874\n",
      "Validation Accuracy    :     0.6158\n",
      "\n",
      "Epoch 13, CIFAR-10 Batch 1:  \n",
      "Cost    :     0.907921\n",
      "Validation Accuracy    :     0.6166\n",
      "\n",
      "Epoch 13, CIFAR-10 Batch 2:  \n",
      "Cost    :     0.673988\n",
      "Validation Accuracy    :     0.6248\n",
      "\n",
      "Epoch 13, CIFAR-10 Batch 3:  \n",
      "Cost    :     0.690989\n",
      "Validation Accuracy    :     0.6312\n",
      "\n",
      "Epoch 13, CIFAR-10 Batch 4:  \n",
      "Cost    :     0.784989\n",
      "Validation Accuracy    :     0.6434\n",
      "\n",
      "Epoch 13, CIFAR-10 Batch 5:  \n",
      "Cost    :     0.7483\n",
      "Validation Accuracy    :     0.6224\n",
      "\n",
      "Epoch 14, CIFAR-10 Batch 1:  \n",
      "Cost    :     0.850293\n",
      "Validation Accuracy    :     0.6182\n",
      "\n",
      "Epoch 14, CIFAR-10 Batch 2:  \n",
      "Cost    :     0.619205\n",
      "Validation Accuracy    :     0.6182\n",
      "\n",
      "Epoch 14, CIFAR-10 Batch 3:  \n",
      "Cost    :     0.66318\n",
      "Validation Accuracy    :     0.6394\n",
      "\n",
      "Epoch 14, CIFAR-10 Batch 4:  \n",
      "Cost    :     0.814811\n",
      "Validation Accuracy    :     0.6212\n",
      "\n",
      "Epoch 14, CIFAR-10 Batch 5:  \n",
      "Cost    :     0.665983\n",
      "Validation Accuracy    :     0.6364\n",
      "\n",
      "Epoch 15, CIFAR-10 Batch 1:  \n",
      "Cost    :     0.836816\n",
      "Validation Accuracy    :     0.599\n",
      "\n",
      "Epoch 15, CIFAR-10 Batch 2:  \n",
      "Cost    :     0.64897\n",
      "Validation Accuracy    :     0.6134\n",
      "\n",
      "Epoch 15, CIFAR-10 Batch 3:  \n",
      "Cost    :     0.574084\n",
      "Validation Accuracy    :     0.6404\n",
      "\n",
      "Epoch 15, CIFAR-10 Batch 4:  \n",
      "Cost    :     0.728337\n",
      "Validation Accuracy    :     0.639\n",
      "\n",
      "Epoch 15, CIFAR-10 Batch 5:  \n",
      "Cost    :     0.649819\n",
      "Validation Accuracy    :     0.6298\n",
      "\n"
     ]
    }
   ],
   "source": [
    "\"\"\"\n",
    "DON'T MODIFY ANYTHING IN THIS CELL\n",
    "\"\"\"\n",
    "save_model_path = './image_classification'\n",
    "\n",
    "print('Training...')\n",
    "with tf.Session() as sess:\n",
    "    # Initializing the variables\n",
    "    sess.run(tf.global_variables_initializer())\n",
    "    \n",
    "    # Training cycle\n",
    "    for epoch in range(epochs):\n",
    "        # Loop over all batches\n",
    "        n_batches = 5\n",
    "        for batch_i in range(1, n_batches + 1):\n",
    "            for batch_features, batch_labels in helper.load_preprocess_training_batch(batch_i, batch_size):\n",
    "                train_neural_network(sess, optimizer, keep_probability, batch_features, batch_labels)\n",
    "            print('Epoch {:>2}, CIFAR-10 Batch {}:  '.format(epoch + 1, batch_i), end='')\n",
    "            print_stats(sess, batch_features, batch_labels, cost, accuracy)\n",
    "            \n",
    "    # Save Model\n",
    "    saver = tf.train.Saver()\n",
    "    save_path = saver.save(sess, save_model_path)"
   ]
  },
  {
   "cell_type": "markdown",
   "metadata": {},
   "source": [
    "# Checkpoint\n",
    "The model has been saved to disk.\n",
    "## Test Model\n",
    "Test your model against the test dataset.  This will be your final accuracy. You should have an accuracy greater than 50%. If you don't, keep tweaking the model architecture and parameters."
   ]
  },
  {
   "cell_type": "code",
   "execution_count": 20,
   "metadata": {
    "collapsed": false
   },
   "outputs": [
    {
     "name": "stdout",
     "output_type": "stream",
     "text": [
      "Testing Accuracy: 0.6301751592356688\n",
      "\n"
     ]
    },
    {
     "data": {
      "image/png": "[encoded data removed]",
      "text/plain": [
       "<matplotlib.figure.Figure at 0x10aa6c710>"
      ]
     },
     "metadata": {
      "image/png": {
       "height": 319,
       "width": 355
      }
     },
     "output_type": "display_data"
    }
   ],
   "source": [
    "\"\"\"\n",
    "DON'T MODIFY ANYTHING IN THIS CELL\n",
    "\"\"\"\n",
    "%matplotlib inline\n",
    "%config InlineBackend.figure_format = 'retina'\n",
    "\n",
    "import tensorflow as tf\n",
    "import pickle\n",
    "import helper\n",
    "import random\n",
    "\n",
    "# Set batch size if not already set\n",
    "try:\n",
    "    if batch_size:\n",
    "        pass\n",
    "except NameError:\n",
    "    batch_size = 64\n",
    "\n",
    "save_model_path = './image_classification'\n",
    "n_samples = 4\n",
    "top_n_predictions = 3\n",
    "\n",
    "def test_model():\n",
    "    \"\"\"\n",
    "    Test the saved model against the test dataset\n",
    "    \"\"\"\n",
    "\n",
    "    test_features, test_labels = pickle.load(open('preprocess_training.p', mode='rb'))\n",
    "    loaded_graph = tf.Graph()\n",
    "\n",
    "    with tf.Session(graph=loaded_graph) as sess:\n",
    "        # Load model\n",
    "        loader = tf.train.import_meta_graph(save_model_path + '.meta')\n",
    "        loader.restore(sess, save_model_path)\n",
    "\n",
    "        # Get Tensors from loaded model\n",
    "        loaded_x = loaded_graph.get_tensor_by_name('x:0')\n",
    "        loaded_y = loaded_graph.get_tensor_by_name('y:0')\n",
    "        loaded_keep_prob = loaded_graph.get_tensor_by_name('keep_prob:0')\n",
    "        loaded_logits = loaded_graph.get_tensor_by_name('logits:0')\n",
    "        loaded_acc = loaded_graph.get_tensor_by_name('accuracy:0')\n",
    "        \n",
    "        # Get accuracy in batches for memory limitations\n",
    "        test_batch_acc_total = 0\n",
    "        test_batch_count = 0\n",
    "        \n",
    "        for train_feature_batch, train_label_batch in helper.batch_features_labels(test_features, test_labels, batch_size):\n",
    "            test_batch_acc_total += sess.run(\n",
    "                loaded_acc,\n",
    "                feed_dict={loaded_x: train_feature_batch, loaded_y: train_label_batch, loaded_keep_prob: 1.0})\n",
    "            test_batch_count += 1\n",
    "\n",
    "        print('Testing Accuracy: {}\\n'.format(test_batch_acc_total/test_batch_count))\n",
    "\n",
    "        # Print Random Samples\n",
    "        random_test_features, random_test_labels = tuple(zip(*random.sample(list(zip(test_features, test_labels)), n_samples)))\n",
    "        random_test_predictions = sess.run(\n",
    "            tf.nn.top_k(tf.nn.softmax(loaded_logits), top_n_predictions),\n",
    "            feed_dict={loaded_x: random_test_features, loaded_y: random_test_labels, loaded_keep_prob: 1.0})\n",
    "        helper.display_image_predictions(random_test_features, random_test_labels, random_test_predictions)\n",
    "\n",
    "\n",
    "test_model()"
   ]
  },
  {
   "cell_type": "markdown",
   "metadata": {},
   "source": [
    "## Why 50-80% Accuracy?\n",
    "You might be wondering why you can't get an accuracy any higher. First things first, 50% isn't bad for a simple CNN.  Pure guessing would get you 10% accuracy. However, you might notice people are getting scores [well above 80%](http://rodrigob.github.io/are_we_there_yet/build/classification_datasets_results.html#43494641522d3130).  That's because we haven't taught you all there is to know about neural networks. We still need to cover a few more techniques.\n",
    "## Submitting This Project\n",
    "When submitting this project, make sure to run all the cells before saving the notebook.  Save the notebook file as \"dlnd_image_classification.ipynb\" and save it as a HTML file under \"File\" -> \"Download as\".  Include the \"helper.py\" and \"problem_unittests.py\" files in your submission."
   ]
  }
 ],
 "metadata": {
  "kernelspec": {
   "display_name": "Python 3",
   "language": "python",
   "name": "python3"
  },
  "language_info": {
   "codemirror_mode": {
    "name": "ipython",
    "version": 3
   },
   "file_extension": ".py",
   "mimetype": "text/x-python",
   "name": "python",
   "nbconvert_exporter": "python",
   "pygments_lexer": "ipython3",
   "version": "3.6.0"
  }
 },
 "nbformat": 4,
 "nbformat_minor": 0
}
